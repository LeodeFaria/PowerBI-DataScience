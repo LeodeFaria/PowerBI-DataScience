{
  "nbformat": 4,
  "nbformat_minor": 0,
  "metadata": {
    "anaconda-cloud": {},
    "kernelspec": {
      "display_name": "Python 3",
      "language": "python",
      "name": "python3"
    },
    "language_info": {
      "codemirror_mode": {
        "name": "ipython",
        "version": 3
      },
      "file_extension": ".py",
      "mimetype": "text/x-python",
      "name": "python",
      "nbconvert_exporter": "python",
      "pygments_lexer": "ipython3",
      "version": "3.7.6"
    },
    "colab": {
      "name": "Aula 1 - Exercícios com Numeros e Variáveis.ipynb",
      "provenance": [],
      "toc_visible": true,
      "include_colab_link": true
    }
  },
  "cells": [
    {
      "cell_type": "markdown",
      "metadata": {
        "id": "view-in-github",
        "colab_type": "text"
      },
      "source": [
        "<a href=\"https://colab.research.google.com/github/LeodeFaria/PowerBI-DataScience/blob/master/Aula_1_Exerc%C3%ADcios_com_Numeros_e_Vari%C3%A1veis.ipynb\" target=\"_parent\"><img src=\"https://colab.research.google.com/assets/colab-badge.svg\" alt=\"Open In Colab\"/></a>"
      ]
    },
    {
      "cell_type": "markdown",
      "metadata": {
        "id": "KzyJFuXfq8NU"
      },
      "source": [
        "## 1 Números e Operações Matemáticas"
      ]
    },
    {
      "cell_type": "code",
      "metadata": {
        "id": "KFH6rEpJq8NV"
      },
      "source": [
        "# Somar 14 com 34\n",
        "# Subtração 14 de 20\n",
        "# Multiplicação 2  vezes 3\n",
        "# Divisão 30 por 2\n",
        "# Potência: quarta potência de 2"
      ],
      "execution_count": null,
      "outputs": []
    },
    {
      "cell_type": "code",
      "metadata": {
        "colab": {
          "base_uri": "https://localhost:8080/"
        },
        "id": "El0cLn8f3ACu",
        "outputId": "7edbb4e6-b891-4cb5-fefd-4e4ec320dd84"
      },
      "source": [
        "14 +     34"
      ],
      "execution_count": null,
      "outputs": [
        {
          "output_type": "execute_result",
          "data": {
            "text/plain": [
              "48"
            ]
          },
          "metadata": {
            "tags": []
          },
          "execution_count": 4
        }
      ]
    },
    {
      "cell_type": "code",
      "metadata": {
        "id": "BSHJEX2_q8NV"
      },
      "source": [
        "# Subtração 14 de 20"
      ],
      "execution_count": null,
      "outputs": []
    },
    {
      "cell_type": "code",
      "metadata": {
        "colab": {
          "base_uri": "https://localhost:8080/"
        },
        "id": "RjHrn-no3RhR",
        "outputId": "6a92934c-819b-4f30-aca9-07c726f8feb4"
      },
      "source": [
        "20-14"
      ],
      "execution_count": null,
      "outputs": [
        {
          "output_type": "execute_result",
          "data": {
            "text/plain": [
              "6"
            ]
          },
          "metadata": {
            "tags": []
          },
          "execution_count": 9
        }
      ]
    },
    {
      "cell_type": "code",
      "metadata": {
        "id": "H1631sbpq8NW"
      },
      "source": [
        "# Multiplicação 2  vezes 3"
      ],
      "execution_count": null,
      "outputs": []
    },
    {
      "cell_type": "code",
      "metadata": {
        "colab": {
          "base_uri": "https://localhost:8080/"
        },
        "id": "UnoGXNBa3You",
        "outputId": "af33f5d6-db7c-411d-8462-d2b6595c2c5d"
      },
      "source": [
        "2*3"
      ],
      "execution_count": null,
      "outputs": [
        {
          "output_type": "execute_result",
          "data": {
            "text/plain": [
              "6"
            ]
          },
          "metadata": {
            "tags": []
          },
          "execution_count": 10
        }
      ]
    },
    {
      "cell_type": "code",
      "metadata": {
        "id": "jFwkWdQXq8NW"
      },
      "source": [
        "# Divisão 30 por 2"
      ],
      "execution_count": null,
      "outputs": []
    },
    {
      "cell_type": "code",
      "metadata": {
        "colab": {
          "base_uri": "https://localhost:8080/"
        },
        "id": "hF8Tj1ma3d0G",
        "outputId": "2978e5cb-0d73-44b0-fae3-9fff4d8da3ab"
      },
      "source": [
        "30 / 2"
      ],
      "execution_count": null,
      "outputs": [
        {
          "output_type": "execute_result",
          "data": {
            "text/plain": [
              "15.0"
            ]
          },
          "metadata": {
            "tags": []
          },
          "execution_count": 11
        }
      ]
    },
    {
      "cell_type": "code",
      "metadata": {
        "id": "xB5LO9B53jue"
      },
      "source": [
        "#  30/2"
      ],
      "execution_count": null,
      "outputs": []
    },
    {
      "cell_type": "code",
      "metadata": {
        "id": "AAvYnw_9q8NW"
      },
      "source": [
        "# Potência: quarta potência de 2"
      ],
      "execution_count": null,
      "outputs": []
    },
    {
      "cell_type": "code",
      "metadata": {
        "colab": {
          "base_uri": "https://localhost:8080/"
        },
        "id": "0jclz8Jy3qoR",
        "outputId": "2bd7f50b-a186-4a88-9e85-4925c10d91de"
      },
      "source": [
        "2**5"
      ],
      "execution_count": null,
      "outputs": [
        {
          "output_type": "execute_result",
          "data": {
            "text/plain": [
              "32"
            ]
          },
          "metadata": {
            "tags": []
          },
          "execution_count": 17
        }
      ]
    },
    {
      "cell_type": "markdown",
      "metadata": {
        "id": "6b5Hh1IWq8Nc"
      },
      "source": [
        "## 2 Funções abs, round e pow"
      ]
    },
    {
      "cell_type": "code",
      "metadata": {
        "id": "dLS8cZ43q8Nc"
      },
      "source": [
        "# Retorna o valor absoluto abs()\n",
        "# Retorna valor absoludo de -10\n",
        "# Retorna valor absoludo de  310"
      ],
      "execution_count": null,
      "outputs": []
    },
    {
      "cell_type": "code",
      "metadata": {
        "colab": {
          "base_uri": "https://localhost:8080/"
        },
        "id": "oIhSw7L64Jal",
        "outputId": "04c8bcfa-ba0f-4111-a94a-d07a9d949672"
      },
      "source": [
        "abs(-68)"
      ],
      "execution_count": null,
      "outputs": [
        {
          "output_type": "execute_result",
          "data": {
            "text/plain": [
              "68"
            ]
          },
          "metadata": {
            "tags": []
          },
          "execution_count": 20
        }
      ]
    },
    {
      "cell_type": "code",
      "metadata": {
        "colab": {
          "base_uri": "https://localhost:8080/"
        },
        "id": "HfHhilh04lYJ",
        "outputId": "b017f851-33b2-4ef7-c1ea-5450bc639fdf"
      },
      "source": [
        "abs(-18)"
      ],
      "execution_count": null,
      "outputs": [
        {
          "output_type": "execute_result",
          "data": {
            "text/plain": [
              "18"
            ]
          },
          "metadata": {
            "tags": []
          },
          "execution_count": 21
        }
      ]
    },
    {
      "cell_type": "code",
      "metadata": {
        "colab": {
          "base_uri": "https://localhost:8080/"
        },
        "id": "62XvUfJo4ldY",
        "outputId": "bd79bb34-c027-47b2-ed71-6ff52b9ce50c"
      },
      "source": [
        "abs(310)"
      ],
      "execution_count": null,
      "outputs": [
        {
          "output_type": "execute_result",
          "data": {
            "text/plain": [
              "310"
            ]
          },
          "metadata": {
            "tags": []
          },
          "execution_count": 22
        }
      ]
    },
    {
      "cell_type": "code",
      "metadata": {
        "id": "G7pkkFHGq8Nd"
      },
      "source": [
        "# Retorna o valor com arredondamento: round()\n",
        "# Retorna o valor com arredondamento de 3,1417548675 com 2 casas decimais"
      ],
      "execution_count": null,
      "outputs": []
    },
    {
      "cell_type": "code",
      "metadata": {
        "colab": {
          "base_uri": "https://localhost:8080/"
        },
        "id": "G8iUL2IY4tu-",
        "outputId": "736ccdeb-ea6a-45c3-c035-0de5d4456fb1"
      },
      "source": [
        "round(314.54782145,4) "
      ],
      "execution_count": null,
      "outputs": [
        {
          "output_type": "execute_result",
          "data": {
            "text/plain": [
              "314.5478"
            ]
          },
          "metadata": {
            "tags": []
          },
          "execution_count": 23
        }
      ]
    },
    {
      "cell_type": "code",
      "metadata": {
        "id": "rejujWsO4t9k"
      },
      "source": [
        ""
      ],
      "execution_count": null,
      "outputs": []
    },
    {
      "cell_type": "markdown",
      "metadata": {
        "id": "o_OkEaDnueme"
      },
      "source": [
        "## 3 Variáveis e Operadores"
      ]
    },
    {
      "cell_type": "code",
      "metadata": {
        "id": "0VT_35zzufD3"
      },
      "source": [
        "# Atribuindo o valor 10 à variável idade_casa\n",
        "# Imprimindo o valor da variável"
      ],
      "execution_count": null,
      "outputs": []
    },
    {
      "cell_type": "markdown",
      "metadata": {
        "id": "c5mo-fXEunFH"
      },
      "source": [
        "## 4 Variáveis atribuídas a outras variáveis e ordem dos operadores\n",
        "*   atribua o valor 2 à variável largura\n",
        "*   atribua o valor 4 à variável altura\n",
        "*   atribua a multiplicação das duas variáveis à variável area (lembre-se que o valor dá área é altura vezes largura)\n",
        "*   imprima o valor da área\n",
        "*   imprima o valor do perímetro (você lembra a formula do perímetro?)\n"
      ]
    },
    {
      "cell_type": "markdown",
      "metadata": {
        "id": "VnPEz51YZuwG"
      },
      "source": [
        "# Polinômios em uma variável X"
      ]
    },
    {
      "cell_type": "markdown",
      "metadata": {
        "id": "1AwI7mAGZ_Mz"
      },
      "source": [
        "Importe as funções de operações com polinômios da biblioteca numpy.\n",
        "(from numpy import polyadd, polysub) \n",
        "e defina os polinômios \n",
        "* (3x**2 + 2x - 1), \n",
        "* (4x**2 - x + 3), \n",
        "* (3x**2 - 2x + 1) e \n",
        "* (-2x**2 + 4) \n",
        "\n",
        "após faça a soma e a subtração entre eles"
      ]
    },
    {
      "cell_type": "code",
      "metadata": {
        "id": "KsI_XZZUZyHL"
      },
      "source": [
        "# Primeiramente, definimos os coeficientes dos polinômios:\n",
        "coef_pol_1 = [3,2,-1]\n",
        "coef_pol_2 = [4,-1,3]\n",
        "coef_pol_3 = [3,-2,1]\n",
        "coef_pol_4 = [-2,0,4]"
      ],
      "execution_count": null,
      "outputs": []
    },
    {
      "cell_type": "code",
      "metadata": {
        "colab": {
          "base_uri": "https://localhost:8080/"
        },
        "id": "KWswzrQCuCom",
        "outputId": "b4640128-d705-48af-e79e-f5b39471bea6"
      },
      "source": [
        "coef_pol_1"
      ],
      "execution_count": null,
      "outputs": [
        {
          "output_type": "execute_result",
          "data": {
            "text/plain": [
              "[3, 2, -1]"
            ]
          },
          "metadata": {
            "tags": []
          },
          "execution_count": 17
        }
      ]
    },
    {
      "cell_type": "code",
      "metadata": {
        "colab": {
          "base_uri": "https://localhost:8080/"
        },
        "id": "rDHDm0YqbHpM",
        "outputId": "5f9d2677-e66e-4a85-856e-5fdb8b59b04e"
      },
      "source": [
        "# Importar as funções que fazem as somas, subtrações, multiplicações e divisões entre polinômios\n",
        "from numpy import polyadd, polysub, poly1d\n",
        "\n",
        "# Faz a adição dos polinômios 1 e 2, e subtração dos polinômios 1 e 4\n",
        "soma_1_2 = polyadd(coef_pol_1,coef_pol_2)\n",
        "subt_1_4 = polysub(coef_pol_1,coef_pol_4)\n",
        "print(soma_1_2)\n",
        "print(subt_1_4)"
      ],
      "execution_count": null,
      "outputs": [
        {
          "output_type": "stream",
          "text": [
            "[7 1 2]\n",
            "[ 5  2 -5]\n"
          ],
          "name": "stdout"
        }
      ]
    },
    {
      "cell_type": "code",
      "metadata": {
        "colab": {
          "base_uri": "https://localhost:8080/"
        },
        "id": "EomwsSAQbQqr",
        "outputId": "11327d8e-a25f-4ddc-d92e-44968d48bdf5"
      },
      "source": [
        "# Utilizar a função poly1d\n",
        "pol1 = poly1d(coef_pol_1)\n",
        "pol2 = poly1d(coef_pol_2)\n",
        "polyadd(pol1, pol2)"
      ],
      "execution_count": null,
      "outputs": [
        {
          "output_type": "execute_result",
          "data": {
            "text/plain": [
              "poly1d([7, 1, 2])"
            ]
          },
          "metadata": {
            "tags": []
          },
          "execution_count": 19
        }
      ]
    },
    {
      "cell_type": "code",
      "metadata": {
        "id": "A0-w5rsDcmH3"
      },
      "source": [
        ""
      ],
      "execution_count": null,
      "outputs": []
    }
  ]
}