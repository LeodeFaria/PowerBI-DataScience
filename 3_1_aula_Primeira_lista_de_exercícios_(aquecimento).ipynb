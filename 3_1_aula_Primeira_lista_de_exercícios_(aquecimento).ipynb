{
  "nbformat": 4,
  "nbformat_minor": 0,
  "metadata": {
    "kernelspec": {
      "display_name": "Python 3",
      "language": "python",
      "name": "python3"
    },
    "language_info": {
      "codemirror_mode": {
        "name": "ipython",
        "version": 3
      },
      "file_extension": ".py",
      "mimetype": "text/x-python",
      "name": "python",
      "nbconvert_exporter": "python",
      "pygments_lexer": "ipython3",
      "version": "3.7.6"
    },
    "colab": {
      "name": "3.1 aula - Primeira lista de exercícios (aquecimento).ipynb",
      "provenance": [],
      "include_colab_link": true
    }
  },
  "cells": [
    {
      "cell_type": "markdown",
      "metadata": {
        "id": "view-in-github",
        "colab_type": "text"
      },
      "source": [
        "<a href=\"https://colab.research.google.com/github/LeodeFaria/PowerBI-DataScience/blob/master/3_1_aula_Primeira_lista_de_exerc%C3%ADcios_(aquecimento).ipynb\" target=\"_parent\"><img src=\"https://colab.research.google.com/assets/colab-badge.svg\" alt=\"Open In Colab\"/></a>"
      ]
    },
    {
      "cell_type": "markdown",
      "metadata": {
        "id": "jOLojIThq4pX"
      },
      "source": [
        "# Bem-vindos ao pré-aquecimento do nosso curso de Fundamentos de Python!\n",
        "\n",
        "\n",
        "\n"
      ]
    },
    {
      "cell_type": "markdown",
      "metadata": {
        "id": "Qyg_5Knq8EgC"
      },
      "source": [
        "## Esta é a sua primeira lista de exercícios para ser resolvida durante a aula.\n",
        "Opcional para correção: Após terminar envie a sua lista com permissão de edição no slack para o canal #notebooks."
      ]
    },
    {
      "cell_type": "markdown",
      "metadata": {
        "id": "JsfCPXC38HqL"
      },
      "source": [
        "### Treino sobre **listas**.\n",
        "\n"
      ]
    },
    {
      "cell_type": "code",
      "metadata": {
        "id": "h8AdOfD2q4pX"
      },
      "source": [
        "# Exercício 1 - Imprima na tela os números de 1 a 10. Dica: use uma lista para armazenar os números."
      ],
      "execution_count": null,
      "outputs": []
    },
    {
      "cell_type": "code",
      "metadata": {
        "id": "HtBESeX9q4pX"
      },
      "source": [
        "# Exercício 2 - Crie uma lista de 5 objetos e imprima na tela"
      ],
      "execution_count": null,
      "outputs": []
    },
    {
      "cell_type": "markdown",
      "metadata": {
        "id": "F0f8t6px8Unn"
      },
      "source": [
        "### Treino sobre **strings**."
      ]
    },
    {
      "cell_type": "code",
      "metadata": {
        "id": "IvGl2nh6q4pX"
      },
      "source": [
        "# Exercício 3 - Crie duas strings e concatene as duas em uma terceira string"
      ],
      "execution_count": null,
      "outputs": []
    },
    {
      "cell_type": "markdown",
      "metadata": {
        "id": "dIy3aTUi8ZxW"
      },
      "source": [
        "### Treino sobre **tuplas**."
      ]
    },
    {
      "cell_type": "code",
      "metadata": {
        "id": "Hxg6HG0Wq4pY"
      },
      "source": [
        "# Exercício 4 - Crie uma tupla com os seguintes elementos: 1, 2, 2, 3, 4, 4, 4, 5 e depois utilize a função count do \n",
        "# objeto tupla para verificar quantas vezes o número 4 aparece na tupla"
      ],
      "execution_count": null,
      "outputs": []
    },
    {
      "cell_type": "markdown",
      "metadata": {
        "id": "wjKraGhn8dsG"
      },
      "source": [
        "### Treino sobre **dicionários**.\n"
      ]
    },
    {
      "cell_type": "code",
      "metadata": {
        "id": "lC5UtAo2q4pY"
      },
      "source": [
        "# Exercício 5 - Crie um dicionário vazio e imprima na tela"
      ],
      "execution_count": null,
      "outputs": []
    },
    {
      "cell_type": "code",
      "metadata": {
        "id": "NtINgtvyq4pY"
      },
      "source": [
        "# Exercício 6 - Crie um dicionário com 3 chaves e 3 valores e imprima na tela"
      ],
      "execution_count": null,
      "outputs": []
    },
    {
      "cell_type": "code",
      "metadata": {
        "id": "JNm-vcWkq4pY"
      },
      "source": [
        "# Exercício 7 - Adicione mais um elemento ao dicionário criado no exercício anterior e imprima na tela"
      ],
      "execution_count": null,
      "outputs": []
    },
    {
      "cell_type": "code",
      "metadata": {
        "id": "N5ChV2osq4pY"
      },
      "source": [
        "# Exercício 8 - Crie um dicionário com 3 chaves e 3 valores. Um dos valores deve ser uma lista de 2 elementos numéricos. \n",
        "# Imprima o dicionário na tela."
      ],
      "execution_count": null,
      "outputs": []
    },
    {
      "cell_type": "markdown",
      "metadata": {
        "id": "0KZd0HVa8jhz"
      },
      "source": [
        "### Treino misto **listas, strings, dicionários, float, index**."
      ]
    },
    {
      "cell_type": "code",
      "metadata": {
        "id": "0xz6au5nq4pZ"
      },
      "source": [
        "# Exercício 9 - Crie uma lista de 4 elementos. O primeiro elemento deve ser uma string, \n",
        "# o segundo uma tupla de 2 elementos, o terceiro um dicionário com 2 chaves e 2 valores e \n",
        "# o quarto elemento um valor do tipo float.\n",
        "# Imprima a lista na tela."
      ],
      "execution_count": null,
      "outputs": []
    },
    {
      "cell_type": "code",
      "metadata": {
        "id": "_aSMKU4wq4pZ"
      },
      "source": [
        "# Exercício 10 - Considere a string abaixo. Imprima na tela apenas os caracteres da posição 1 a 18.\n",
        "frase = 'Cientista de Dados é o profissional mais sexy do século XXI'"
      ],
      "execution_count": null,
      "outputs": []
    },
    {
      "cell_type": "markdown",
      "metadata": {
        "id": "egJfm3-2q4pZ"
      },
      "source": [
        "# Ufa, Fim!"
      ]
    }
  ]
}