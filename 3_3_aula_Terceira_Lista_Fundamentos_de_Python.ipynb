{
  "nbformat": 4,
  "nbformat_minor": 0,
  "metadata": {
    "kernelspec": {
      "display_name": "Python 3",
      "language": "python",
      "name": "python3"
    },
    "language_info": {
      "codemirror_mode": {
        "name": "ipython",
        "version": 3
      },
      "file_extension": ".py",
      "mimetype": "text/x-python",
      "name": "python",
      "nbconvert_exporter": "python",
      "pygments_lexer": "ipython3",
      "version": "3.8.3"
    },
    "colab": {
      "name": "3.3 aula -  Terceira Lista - Fundamentos de Python.ipynb",
      "provenance": [],
      "toc_visible": true,
      "include_colab_link": true
    }
  },
  "cells": [
    {
      "cell_type": "markdown",
      "metadata": {
        "id": "view-in-github",
        "colab_type": "text"
      },
      "source": [
        "<a href=\"https://colab.research.google.com/github/LeodeFaria/PowerBI-DataScience/blob/master/3_3_aula_Terceira_Lista_Fundamentos_de_Python.ipynb\" target=\"_parent\"><img src=\"https://colab.research.google.com/assets/colab-badge.svg\" alt=\"Open In Colab\"/></a>"
      ]
    },
    {
      "cell_type": "markdown",
      "metadata": {
        "id": "m3ssEJXan-9-"
      },
      "source": [
        "# Linguagem de Programação para Ciência de Dados I: Fundamentos do Python \n",
        "## Exercícios sobre Fundamentos de Python\n",
        "\n",
        "## Prof. Mauro Ribeiro \n",
        "## Monitor: Lucas Horinouchi\n",
        "\n",
        "O objetivo desse notebook é ajudar na fixação dos conteúdos que passamos nas aulas de Fundamentos de Python.\n",
        "\n",
        "Para começar a responder a lista faça uma cópia deste notebook para o seu google drive. \n",
        "\n",
        "Opcional para correção: Após terminar envie a sua lista com permissão de edição no slack para o canal #notebooks."
      ]
    },
    {
      "cell_type": "markdown",
      "metadata": {
        "id": "_epgqMlEn--D"
      },
      "source": [
        "### Variáveis\n",
        "\n",
        "[Documentação](https://docs.python.org/3/tutorial/introduction.html) inicial do python"
      ]
    },
    {
      "cell_type": "code",
      "metadata": {
        "collapsed": true,
        "id": "6jtqBmI1n--D"
      },
      "source": [
        "# Exercício 1 - Declare uma variavel chamada \"a\" e atribua o valor 10 a ela"
      ],
      "execution_count": null,
      "outputs": []
    },
    {
      "cell_type": "code",
      "metadata": {
        "collapsed": true,
        "id": "59Oc3Xoxn--E"
      },
      "source": [
        "# Exercício 2 - Imprime essa variavel que você acabou de criar"
      ],
      "execution_count": null,
      "outputs": []
    },
    {
      "cell_type": "code",
      "metadata": {
        "collapsed": true,
        "id": "-XZbar_Mn--E"
      },
      "source": [
        "# Exercício 3 - Crie uma outra variavel \"b\" que recebe o valor de \"a\" so que como string"
      ],
      "execution_count": null,
      "outputs": []
    },
    {
      "cell_type": "code",
      "metadata": {
        "collapsed": true,
        "id": "RS-CFE45n--E"
      },
      "source": [
        "# Exercício 4 - Combine sua variavel \"b\" a variavel abaixo para obter a string \"Hello 10\" em uma variavel \"d\"\n",
        "c = \"Hello \""
      ],
      "execution_count": null,
      "outputs": []
    },
    {
      "cell_type": "code",
      "metadata": {
        "collapsed": true,
        "id": "oPlAaoeAn--E"
      },
      "source": [
        "# Exercício 5 - Imprima a variável \"d\""
      ],
      "execution_count": null,
      "outputs": []
    },
    {
      "cell_type": "markdown",
      "metadata": {
        "id": "5W4Fdl09n--F"
      },
      "source": [
        "### Strings"
      ]
    },
    {
      "cell_type": "code",
      "metadata": {
        "collapsed": true,
        "id": "xP6Cq_XVn--F"
      },
      "source": [
        "my_str = 'Insira uma frase aqui!'"
      ],
      "execution_count": null,
      "outputs": []
    },
    {
      "cell_type": "code",
      "metadata": {
        "collapsed": true,
        "id": "g8SSlEvZn--F"
      },
      "source": [
        "# Exercício 6 - Substitua a exclamação da frase por uma interrogação\n",
        "# (Dica: A funcão altera inplace ou retorna uma copia modificada?)"
      ],
      "execution_count": null,
      "outputs": []
    },
    {
      "cell_type": "code",
      "metadata": {
        "collapsed": true,
        "id": "NS_-xqA2n--F"
      },
      "source": [
        "# Exercício 7 - Crie uma lista \"my_words\" com cada palavra da frase como elemento da lista"
      ],
      "execution_count": null,
      "outputs": []
    },
    {
      "cell_type": "markdown",
      "metadata": {
        "id": "K2tHMd08n--G"
      },
      "source": [
        "### Listas\n",
        "Além de olhar a documentação também faça pesquisas procurando por termos desconhecidos pesquisas em inglês costumam retornar mais resultador, porém também existem resultados em portugues. [Exemplo](https://letmegooglethat.com/?q=python+listas)"
      ]
    },
    {
      "cell_type": "code",
      "metadata": {
        "collapsed": true,
        "id": "TGejFGF-n--G"
      },
      "source": [
        "lista = [1, 23, 31, 40, 56, 16]"
      ],
      "execution_count": null,
      "outputs": []
    },
    {
      "cell_type": "code",
      "metadata": {
        "collapsed": true,
        "id": "eQvl9G6qn--G"
      },
      "source": [
        "# Exercício 8 - Faça um for que imprima cada elemento da lista \"lista\" (Lembre-se que o for em python é um for each)"
      ],
      "execution_count": null,
      "outputs": []
    },
    {
      "cell_type": "code",
      "metadata": {
        "collapsed": true,
        "id": "CLbXSbosn--G"
      },
      "source": [
        "# Exercício 9 - Faça um for que imprima o dobro de cada elemento da lista \"lista\" "
      ],
      "execution_count": null,
      "outputs": []
    },
    {
      "cell_type": "code",
      "metadata": {
        "collapsed": true,
        "id": "5s3kdican--G"
      },
      "source": [
        "# Exercício 10 - Gere uma lista chamada \"dobro\" com o dobro de cada elemento de \"lista\" usando list comprehension"
      ],
      "execution_count": null,
      "outputs": []
    },
    {
      "cell_type": "code",
      "metadata": {
        "collapsed": true,
        "id": "b3LM2vSAn--H"
      },
      "source": [
        "# Exercício 11 - Crie uma nova lista chamada \"pares\"\n",
        "# Faça um for que itere sobre a lista \"lista\" e para cada elemento impar coloque ele no fim da lista \"pares\"\n",
        "# Imprima a lista \"pares\""
      ],
      "execution_count": null,
      "outputs": []
    },
    {
      "cell_type": "code",
      "metadata": {
        "collapsed": true,
        "id": "o3i0lvi2n--H"
      },
      "source": [
        "lista2 = ['oi', 2, 2.5, 'top', 'python', 45]"
      ],
      "execution_count": null,
      "outputs": []
    },
    {
      "cell_type": "code",
      "metadata": {
        "collapsed": true,
        "id": "guXgeS2Pn--H"
      },
      "source": [
        "# Exercício 12 - Faça um for pela \"lista2\" e imprima todos os elementos que são strings (Dica: pesquise pela função type())"
      ],
      "execution_count": null,
      "outputs": []
    },
    {
      "cell_type": "markdown",
      "metadata": {
        "id": "ylHVmHaKn--H"
      },
      "source": [
        "#### Indexando"
      ]
    },
    {
      "cell_type": "code",
      "metadata": {
        "collapsed": true,
        "id": "cIckbm9bn--H"
      },
      "source": [
        "my_list = [0, 10, 20, 30, 40, 50, 60, 70]"
      ],
      "execution_count": null,
      "outputs": []
    },
    {
      "cell_type": "code",
      "metadata": {
        "collapsed": true,
        "id": "Vi0rJNn4n--I"
      },
      "source": [
        "# Exercício 13 - Selecione o ultimo elemento da lista"
      ],
      "execution_count": null,
      "outputs": []
    },
    {
      "cell_type": "code",
      "metadata": {
        "collapsed": true,
        "id": "JqtpIvd2n--I"
      },
      "source": [
        "# Exercício 14 - Selecione do primeiro até o 4 elemento da lista"
      ],
      "execution_count": null,
      "outputs": []
    },
    {
      "cell_type": "code",
      "metadata": {
        "collapsed": true,
        "id": "gT6wK_C4n--I"
      },
      "source": [
        "# Exercício 15 - Selecione do segundo elemento da lista até o quinto"
      ],
      "execution_count": null,
      "outputs": []
    },
    {
      "cell_type": "code",
      "metadata": {
        "collapsed": true,
        "id": "91edIhvsn--I"
      },
      "source": [
        "# Exercício 16 - Selecione do primeiro elemento da lista até o penultimo"
      ],
      "execution_count": null,
      "outputs": []
    },
    {
      "cell_type": "markdown",
      "metadata": {
        "id": "lZ3OMy4en--I"
      },
      "source": [
        "### Dicionários"
      ]
    },
    {
      "cell_type": "code",
      "metadata": {
        "collapsed": true,
        "id": "kAEucsPbn--I"
      },
      "source": [
        "lista = ['a', 'a', 'b', 'a', 'c', 'd', 'e', 'b', 'b', 'c']"
      ],
      "execution_count": null,
      "outputs": []
    },
    {
      "cell_type": "code",
      "metadata": {
        "colab": {
          "base_uri": "https://localhost:8080/"
        },
        "id": "DVdFXOaAxYSG",
        "outputId": "66d011f2-c9f2-48b4-98fe-813530224a03"
      },
      "source": [
        "n_a = lista.count('')\n",
        "n_a"
      ],
      "execution_count": null,
      "outputs": [
        {
          "output_type": "execute_result",
          "data": {
            "text/plain": [
              "3"
            ]
          },
          "metadata": {
            "tags": []
          },
          "execution_count": 3
        }
      ]
    },
    {
      "cell_type": "code",
      "metadata": {
        "collapsed": true,
        "id": "u0d4h0k-n--J",
        "colab": {
          "base_uri": "https://localhost:8080/"
        },
        "outputId": "121b4fa1-a881-476a-9469-716a6ab8ae81"
      },
      "source": [
        "# Exercício 17 - Crie um dicionario que contenha a contagem de cada elemento do vetor\n",
        "my_dict = {'a': n_a}\n",
        "my_dict\n",
        "#..."
      ],
      "execution_count": null,
      "outputs": [
        {
          "output_type": "execute_result",
          "data": {
            "text/plain": [
              "{'a': 3}"
            ]
          },
          "metadata": {
            "tags": []
          },
          "execution_count": 4
        }
      ]
    },
    {
      "cell_type": "code",
      "metadata": {
        "colab": {
          "base_uri": "https://localhost:8080/"
        },
        "id": "clQmfDLSx02l",
        "outputId": "ef42ae6b-e829-4596-b068-df8a3d4ffe29"
      },
      "source": [
        "my_dict.keys()"
      ],
      "execution_count": null,
      "outputs": [
        {
          "output_type": "execute_result",
          "data": {
            "text/plain": [
              "dict_keys(['a'])"
            ]
          },
          "metadata": {
            "tags": []
          },
          "execution_count": 8
        }
      ]
    },
    {
      "cell_type": "code",
      "metadata": {
        "colab": {
          "base_uri": "https://localhost:8080/"
        },
        "id": "nyBOxGVex6va",
        "outputId": "a28c22fc-8ff8-4b88-b523-7af0c0ff0b3c"
      },
      "source": [
        "my_dict.values()"
      ],
      "execution_count": null,
      "outputs": [
        {
          "output_type": "execute_result",
          "data": {
            "text/plain": [
              "dict_values([3])"
            ]
          },
          "metadata": {
            "tags": []
          },
          "execution_count": 10
        }
      ]
    },
    {
      "cell_type": "code",
      "metadata": {
        "id": "5yELonzAn--J"
      },
      "source": [
        "print(my_dict)"
      ],
      "execution_count": null,
      "outputs": []
    },
    {
      "cell_type": "markdown",
      "metadata": {
        "id": "omkufl_Nn--J"
      },
      "source": [
        "### Funções"
      ]
    },
    {
      "cell_type": "code",
      "metadata": {
        "collapsed": true,
        "id": "E8sslwBSn--J"
      },
      "source": [
        "# Exercício 18 - Crie uma função soma_elementos() que recebe uma lista e retorna a soma de todos os seus elementos\n",
        "def soma_elementos(lista):\n",
        "    return 0"
      ],
      "execution_count": null,
      "outputs": []
    },
    {
      "cell_type": "code",
      "metadata": {
        "id": "zYgTxeSQn--J"
      },
      "source": [
        "soma_elementos([1, 2, 3, 4, 5])"
      ],
      "execution_count": null,
      "outputs": []
    },
    {
      "cell_type": "code",
      "metadata": {
        "id": "DkDS3nzOn--J"
      },
      "source": [
        "soma_elementos([-1, 5, 7, -2])"
      ],
      "execution_count": null,
      "outputs": []
    },
    {
      "cell_type": "code",
      "metadata": {
        "collapsed": true,
        "id": "cDM8zIbQn--K"
      },
      "source": [
        "# Exercício 19 - Crie uma função produto_escalar() que recebe duas listas de tamanho igual e calcula o produto escalar entre elas\n",
        "# Dica: Utilize a função zip"
      ],
      "execution_count": null,
      "outputs": []
    },
    {
      "cell_type": "code",
      "metadata": {
        "id": "U9AWD0Vmn--K"
      },
      "source": [
        "produto_escalar([1, 2, 3], [0, 4, 7])"
      ],
      "execution_count": null,
      "outputs": []
    },
    {
      "cell_type": "code",
      "metadata": {
        "collapsed": true,
        "id": "qDJ7EkFln--K"
      },
      "source": [
        "produto_escalar([10, 20, 40, 1], [23, 4, 2, 1])"
      ],
      "execution_count": null,
      "outputs": []
    },
    {
      "cell_type": "code",
      "metadata": {
        "collapsed": true,
        "id": "gF0wlUean--K"
      },
      "source": [
        "# Exercício 20 - Crie uma função par_ou_impar() que recebe um numero n é para cada numero de 1 a n imprime o numero\n",
        "# seguido de par ou impar, dependendo do que ele seja. Caso o usuário não coloque nada n deve valer 20\n",
        "# Exemplo: par_ou_impar(4)\n",
        "#   1 Impar\n",
        "#   2 Par\n",
        "#   3 Impar\n",
        "#   4 Par"
      ],
      "execution_count": null,
      "outputs": []
    },
    {
      "cell_type": "code",
      "metadata": {
        "collapsed": true,
        "id": "ha8O8jqfn--K"
      },
      "source": [
        "par_ou_impar(15)"
      ],
      "execution_count": null,
      "outputs": []
    },
    {
      "cell_type": "code",
      "metadata": {
        "collapsed": true,
        "id": "IJ0hDDC6n--L"
      },
      "source": [
        "par_ou_impar(15)"
      ],
      "execution_count": null,
      "outputs": []
    },
    {
      "cell_type": "code",
      "metadata": {
        "collapsed": true,
        "id": "UCMJ8dXbn--L"
      },
      "source": [
        "# Exercício 21 - Crie uma função diga_indice() que recebe uma lista e imprime o indice de cada elemento e em seguida \n",
        "# o proprio elemento\n",
        "# Exemplo: diga_indice(['oi', 'tudo', 'bem'])\n",
        "#    0 oi\n",
        "#    1 tudo\n",
        "#    2 bem\n",
        "# (DICA: Pesquise pela função enumerate)"
      ],
      "execution_count": null,
      "outputs": []
    },
    {
      "cell_type": "code",
      "metadata": {
        "collapsed": true,
        "id": "DuJDAREpn--L"
      },
      "source": [
        "diga_indice(['1', '2', '3'])"
      ],
      "execution_count": null,
      "outputs": []
    },
    {
      "cell_type": "code",
      "metadata": {
        "collapsed": true,
        "id": "t26YJqHun--L"
      },
      "source": [
        "diga_indice(['a', 'b', 'c', 'd', 'e'])"
      ],
      "execution_count": null,
      "outputs": []
    },
    {
      "cell_type": "markdown",
      "metadata": {
        "id": "EC7_smlWn--L"
      },
      "source": [
        "## Numpy\n",
        "\n",
        "O elemento central do numpy são os arrays, então aqui vamos treinar muitas coisas sobre eles\n",
        "\n",
        "[Documentação do numpy](https://numpy.org/devdocs/reference/index.html)\n",
        "\n",
        "Além de olhar a documentação também faça pesquisas procurando por termos desconhecidos pesquisas em inglês costumam retornar mais resultador, porém também existem resultados em portugues. [Exemplo](https://letmegooglethat.com/?q=numpy+shape)"
      ]
    },
    {
      "cell_type": "code",
      "metadata": {
        "collapsed": true,
        "id": "e7mjBkXMn--L"
      },
      "source": [
        "# Importando a biblioteca\n",
        "import numpy as np"
      ],
      "execution_count": null,
      "outputs": []
    },
    {
      "cell_type": "markdown",
      "metadata": {
        "id": "WMD_OkWIn--M"
      },
      "source": [
        "### Arrays"
      ]
    },
    {
      "cell_type": "code",
      "metadata": {
        "id": "wR2G0nKJn--M"
      },
      "source": [
        "a = np.array([1, 2, 3, 4, 5, 6, 7])\n",
        "\n",
        "b = np.array([[1, 2, 3, 4],\n",
        "              [5, 6, 7, 8]])\n",
        "\n",
        "c = np.zeros((3,4))"
      ],
      "execution_count": null,
      "outputs": []
    },
    {
      "cell_type": "code",
      "metadata": {
        "collapsed": true,
        "id": "T00h7BDen--M"
      },
      "source": [
        "# Exercício 22 - Pense em qual é a shape de cada um dos arrays acima\n",
        "# Depois de pensar imprima cada um deles para conferir sua resposta"
      ],
      "execution_count": null,
      "outputs": []
    },
    {
      "cell_type": "code",
      "metadata": {
        "collapsed": true,
        "id": "_9TUwp1Jn--M"
      },
      "source": [
        "# Exercício 23 - Crie um array de uma dimenção com 20 elementos inteiros aletórios entre 0 e 23"
      ],
      "execution_count": null,
      "outputs": []
    },
    {
      "cell_type": "code",
      "metadata": {
        "collapsed": true,
        "id": "BlHN-Fj1n--M"
      },
      "source": [
        "# Exercício 24 - Crie um array de uns com shape (4, 5)"
      ],
      "execution_count": null,
      "outputs": []
    },
    {
      "cell_type": "code",
      "metadata": {
        "collapsed": true,
        "id": "I0tUlNHwn--M"
      },
      "source": [
        "# Exercício 25 - Crie um array shape (4, 2) onde cada entrada vale 77\n",
        "# (Dica: Talvez vc tenha que usar uma multiplicação)"
      ],
      "execution_count": null,
      "outputs": []
    },
    {
      "cell_type": "code",
      "metadata": {
        "collapsed": true,
        "id": "WNtiavTBn--N"
      },
      "source": [
        "# Exercício 26 - Gere um array chamado my_sequence com os numeros 0, 10, 20, 30, ..., 90, 100]"
      ],
      "execution_count": null,
      "outputs": []
    },
    {
      "cell_type": "markdown",
      "metadata": {
        "id": "9JlWxzCyn--N"
      },
      "source": [
        "### Indexando"
      ]
    },
    {
      "cell_type": "code",
      "metadata": {
        "id": "nrfHrWxAn--N"
      },
      "source": [
        "my_array = np.random.randint(50, size=(15,))\n",
        "print(my_array)"
      ],
      "execution_count": null,
      "outputs": []
    },
    {
      "cell_type": "code",
      "metadata": {
        "collapsed": true,
        "id": "4OO_y1s7n--N"
      },
      "source": [
        "# Exercício 27 - Selecione todos os elementos entre o quinto e o decimo primeiro (intervalo fechado)"
      ],
      "execution_count": null,
      "outputs": []
    },
    {
      "cell_type": "code",
      "metadata": {
        "collapsed": true,
        "id": "uyeIMaDjn--N"
      },
      "source": [
        "# Exercício 28 - Selecione todos os elementos maiores que 20"
      ],
      "execution_count": null,
      "outputs": []
    },
    {
      "cell_type": "code",
      "metadata": {
        "collapsed": true,
        "id": "3rribCLZn--N"
      },
      "source": [
        "my_matrix = np.array([[1, 2, 3, 4],\n",
        "                      [5, 6, 7, 8],\n",
        "                      [9, 10, 11, 12],\n",
        "                      [13, 14, 15, 16]])"
      ],
      "execution_count": null,
      "outputs": []
    },
    {
      "cell_type": "code",
      "metadata": {
        "collapsed": true,
        "id": "d6zbUzNPn--O"
      },
      "source": [
        "# Exercício 29 - Selecione o elemento na primeira linha da terceira coluna"
      ],
      "execution_count": null,
      "outputs": []
    },
    {
      "cell_type": "code",
      "metadata": {
        "collapsed": true,
        "id": "vMI0UjfGn--O"
      },
      "source": [
        "# Exercício 30 - Selecione o elemento na primeira linha da ultima coluna"
      ],
      "execution_count": null,
      "outputs": []
    },
    {
      "cell_type": "code",
      "metadata": {
        "collapsed": true,
        "id": "a2HjgVy5n--O"
      },
      "source": [
        "# Exercício 31 - Selecione os elementos da matriz para obter o seguinte\n",
        "# [[6, 7],\n",
        "#  [10, 11]]"
      ],
      "execution_count": null,
      "outputs": []
    },
    {
      "cell_type": "code",
      "metadata": {
        "collapsed": true,
        "id": "jA7uhfZWn--O"
      },
      "source": [
        "# Exercício 32 - Selecione os elementos da matriz para obter o seguinte\n",
        "# [[2, 3, 4],\n",
        "#  [6, 7, 8]]"
      ],
      "execution_count": null,
      "outputs": []
    },
    {
      "cell_type": "code",
      "metadata": {
        "collapsed": true,
        "id": "3dim_w5En--O"
      },
      "source": [
        "# Exercício 33 - Selecione os elementos da ultima coluna inteira"
      ],
      "execution_count": null,
      "outputs": []
    },
    {
      "cell_type": "code",
      "metadata": {
        "collapsed": true,
        "id": "zIJcbtoTn--O"
      },
      "source": [
        "# Exercício 34 - Selecione os elementos da 2a linha inteira"
      ],
      "execution_count": null,
      "outputs": []
    },
    {
      "cell_type": "markdown",
      "metadata": {
        "id": "OCStsuYBn--O"
      },
      "source": [
        "### Operações"
      ]
    },
    {
      "cell_type": "code",
      "metadata": {
        "id": "YHNu99lXn--P"
      },
      "source": [
        "my_array = np.random.randint(10, size=(5,))\n",
        "print(my_array)"
      ],
      "execution_count": null,
      "outputs": []
    },
    {
      "cell_type": "code",
      "metadata": {
        "collapsed": true,
        "id": "us2z9CuRn--P"
      },
      "source": [
        "# Exercício 35 - Some 10 a todos os elementos de my_array"
      ],
      "execution_count": null,
      "outputs": []
    },
    {
      "cell_type": "code",
      "metadata": {
        "collapsed": true,
        "id": "gzWtL1fYn--P"
      },
      "source": [
        "# Exercício 36 - Multiplique todos os elementos de my_array por 4"
      ],
      "execution_count": null,
      "outputs": []
    },
    {
      "cell_type": "code",
      "metadata": {
        "collapsed": true,
        "id": "ouX86I7Un--P"
      },
      "source": [
        "# Exercício 37 - Obtenha a soma de todos os elementos de my_array"
      ],
      "execution_count": null,
      "outputs": []
    },
    {
      "cell_type": "code",
      "metadata": {
        "collapsed": true,
        "id": "LMKVUppjn--P"
      },
      "source": [
        "# Exercício 38 - Obtenha a média de todos os elementos de my_array"
      ],
      "execution_count": null,
      "outputs": []
    },
    {
      "cell_type": "code",
      "metadata": {
        "collapsed": true,
        "id": "p1YeEkqXn--P"
      },
      "source": [
        "# Exercício 39 - Obtenha o indice do maior elemento de my_array"
      ],
      "execution_count": null,
      "outputs": []
    },
    {
      "cell_type": "code",
      "metadata": {
        "id": "m3zE02Uwn--P"
      },
      "source": [
        "my_array = np.random.randint(10, size=(5,))\n",
        "my_other_array = np.random.randint(10, size=(5,))\n",
        "print(my_array, '\\n')\n",
        "print(my_other_array)"
      ],
      "execution_count": null,
      "outputs": []
    },
    {
      "cell_type": "code",
      "metadata": {
        "id": "VqbrtCQqn--Q"
      },
      "source": [
        "my_array = np.random.randint(10, size=(5,))\n",
        "my_other_array = np.random.randint(10, size=(10,5))\n",
        "print(my_array, '\\n')\n",
        "print(my_other_array)"
      ],
      "execution_count": null,
      "outputs": []
    },
    {
      "cell_type": "code",
      "metadata": {
        "collapsed": true,
        "id": "dPcA3-Apn--Q"
      },
      "source": [
        "# Exercício 40 - Some my_array elemento por elemento em cada linha de my_other_array"
      ],
      "execution_count": null,
      "outputs": []
    },
    {
      "cell_type": "code",
      "metadata": {
        "id": "gWJW6kvyn--Q"
      },
      "source": [
        "my_array = np.random.randint(10, size=(5,4))\n",
        "my_other_array = np.random.randint(10, size=(10,5))\n",
        "print(my_array, '\\n')\n",
        "print(my_other_array)"
      ],
      "execution_count": null,
      "outputs": []
    },
    {
      "cell_type": "code",
      "metadata": {
        "collapsed": true,
        "id": "jx3EDYkPn--Q"
      },
      "source": [
        "# Exercício 41 - Faça a multiplicação entre my_other_array e my_array"
      ],
      "execution_count": null,
      "outputs": []
    },
    {
      "cell_type": "code",
      "metadata": {
        "collapsed": true,
        "id": "5Nhxb8Bbn--R"
      },
      "source": [
        "# Exercício 42 - Descubra a soma dos valores de cada linha de my_other_array\n",
        "# (Dica: Pesquise sobre o atributo axis da função de soma)"
      ],
      "execution_count": null,
      "outputs": []
    },
    {
      "cell_type": "code",
      "metadata": {
        "id": "VCCEQOuSn--R"
      },
      "source": [
        "my_array = np.random.randint(10, size=(5,4))\n",
        "print(my_array)"
      ],
      "execution_count": null,
      "outputs": []
    },
    {
      "cell_type": "code",
      "metadata": {
        "collapsed": true,
        "id": "Qb8ceHBUn--R"
      },
      "source": [
        "# Exercício 43 - Usando reshape transforme a matriz acima em um vetor (Concatendo a linha de baixo na de cima)"
      ],
      "execution_count": null,
      "outputs": []
    },
    {
      "cell_type": "code",
      "metadata": {
        "id": "pNhy3mMDn--R"
      },
      "source": [
        "np.array([[ 0,  1,  2,  3,  4,  5,  6,  7],\n",
        "          [ 8,  9, 10, 11, 12, 13, 14, 15]])"
      ],
      "execution_count": null,
      "outputs": []
    },
    {
      "cell_type": "code",
      "metadata": {
        "collapsed": true,
        "id": "FxeIXLuyn--R"
      },
      "source": [
        "# Exercício 44 - Gere a array anterior usando np.arange e a função reshape"
      ],
      "execution_count": null,
      "outputs": []
    }
  ]
}